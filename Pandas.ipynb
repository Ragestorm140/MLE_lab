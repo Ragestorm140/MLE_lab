{
  "nbformat": 4,
  "nbformat_minor": 0,
  "metadata": {
    "colab": {
      "provenance": []
    },
    "kernelspec": {
      "name": "python3",
      "display_name": "Python 3"
    },
    "language_info": {
      "name": "python"
    }
  },
  "cells": [
    {
      "cell_type": "code",
      "execution_count": null,
      "metadata": {
        "id": "jQEhPYLZVZ3z",
        "colab": {
          "base_uri": "https://localhost:8080/",
          "height": 36
        },
        "outputId": "c4e8ee44-6e63-4baa-d35a-63cca82baea4"
      },
      "outputs": [
        {
          "output_type": "execute_result",
          "data": {
            "text/plain": [
              "'1.5.3'"
            ],
            "application/vnd.google.colaboratory.intrinsic+json": {
              "type": "string"
            }
          },
          "metadata": {},
          "execution_count": 2
        }
      ],
      "source": [
        "#How to import pandas and check the version?\n",
        "import pandas as pd\n",
        "pd.__version__"
      ]
    },
    {
      "cell_type": "code",
      "source": [
        "#How to create a series from a list, numpy array and dict?"
      ],
      "metadata": {
        "id": "RebVwdnRVeOY"
      },
      "execution_count": null,
      "outputs": []
    },
    {
      "cell_type": "code",
      "source": [
        "#How to convert the index of a series into a column of a dataframe?"
      ],
      "metadata": {
        "id": "GDdwKDs1VhRX"
      },
      "execution_count": null,
      "outputs": []
    },
    {
      "cell_type": "code",
      "source": [
        "#How to combine many series to form a dataframe?"
      ],
      "metadata": {
        "id": "ij3dFTzvVjpu"
      },
      "execution_count": null,
      "outputs": []
    },
    {
      "cell_type": "code",
      "source": [
        "#How to assign name to the series’ index?"
      ],
      "metadata": {
        "id": "KNxiBS8aVl07"
      },
      "execution_count": null,
      "outputs": []
    },
    {
      "cell_type": "code",
      "source": [
        "#How to get the items of series A not present in series B?"
      ],
      "metadata": {
        "id": "Jw3aq2BoVosh"
      },
      "execution_count": null,
      "outputs": []
    },
    {
      "cell_type": "code",
      "source": [
        "#How to get the items not common to both series A and series B?"
      ],
      "metadata": {
        "id": "oxUM7SjZVtG1"
      },
      "execution_count": null,
      "outputs": []
    },
    {
      "cell_type": "code",
      "source": [
        "#How to get the minimum, 25th percentile, median, 75th, and max of a numeric series?"
      ],
      "metadata": {
        "id": "ddOnw0ocVyst"
      },
      "execution_count": null,
      "outputs": []
    },
    {
      "cell_type": "code",
      "source": [
        "#How to get frequency counts of unique items of a series?"
      ],
      "metadata": {
        "id": "1zGFCQ1iV0jn"
      },
      "execution_count": null,
      "outputs": []
    },
    {
      "cell_type": "code",
      "source": [
        "#How to keep only top 2 most frequent values as it is and replace everything else as ‘Other’?"
      ],
      "metadata": {
        "id": "wZnrxN70V30S"
      },
      "execution_count": null,
      "outputs": []
    },
    {
      "cell_type": "code",
      "source": [
        "#How to bin a numeric series to 10 groups of equal size?"
      ],
      "metadata": {
        "id": "A1GbGjktV5gm"
      },
      "execution_count": null,
      "outputs": []
    },
    {
      "cell_type": "code",
      "source": [
        "#How to convert a numpy array to a dataframe of given shape? (L1)"
      ],
      "metadata": {
        "id": "-85-vJJgV7a0"
      },
      "execution_count": null,
      "outputs": []
    },
    {
      "cell_type": "code",
      "source": [
        "#How to find the positions of numbers that are multiples of 3 from a series?"
      ],
      "metadata": {
        "id": "CKytPx5EV9ZX"
      },
      "execution_count": null,
      "outputs": []
    },
    {
      "cell_type": "code",
      "source": [
        "#How to extract items at given positions from a series"
      ],
      "metadata": {
        "id": "FCWFaNplV_pW"
      },
      "execution_count": null,
      "outputs": []
    },
    {
      "cell_type": "code",
      "source": [
        "#How to stack two series vertically and horizontally ?"
      ],
      "metadata": {
        "id": "VY1yrGyIWCN5"
      },
      "execution_count": null,
      "outputs": []
    },
    {
      "cell_type": "code",
      "source": [
        "#How to get the positions of items of series A in another series B?"
      ],
      "metadata": {
        "id": "gGr_yHozWD-P"
      },
      "execution_count": null,
      "outputs": []
    },
    {
      "cell_type": "code",
      "source": [
        "#How to compute the mean squared error on a truth and predicted series?"
      ],
      "metadata": {
        "id": "Yp610e9UWF1f"
      },
      "execution_count": null,
      "outputs": []
    },
    {
      "cell_type": "code",
      "source": [
        "#How to convert the first character of each element in a series to uppercase?"
      ],
      "metadata": {
        "id": "0oT_PE5OWI4I"
      },
      "execution_count": null,
      "outputs": []
    },
    {
      "cell_type": "code",
      "source": [
        "#How to calculate the number of characters in each word in a series?"
      ],
      "metadata": {
        "id": "y39BbiVVWf5E"
      },
      "execution_count": null,
      "outputs": []
    },
    {
      "cell_type": "code",
      "source": [
        "#How to compute difference of differences between consequtive numbers of a series?"
      ],
      "metadata": {
        "id": "S9xT_NcRWh9P"
      },
      "execution_count": null,
      "outputs": []
    },
    {
      "cell_type": "code",
      "source": [
        "#How to convert a series of date-strings to a timeseries?"
      ],
      "metadata": {
        "id": "kqicyMhmWkG5"
      },
      "execution_count": null,
      "outputs": []
    },
    {
      "cell_type": "code",
      "source": [
        "#How to get the day of month, week number, day of year and day of week from a series of date strings?"
      ],
      "metadata": {
        "id": "MW-WUBGgWl_8"
      },
      "execution_count": null,
      "outputs": []
    },
    {
      "cell_type": "code",
      "source": [
        "#How to convert year-month string to dates corresponding to the 4th day of the month?"
      ],
      "metadata": {
        "id": "dB2E0ZpyWoC9"
      },
      "execution_count": null,
      "outputs": []
    },
    {
      "cell_type": "code",
      "source": [
        "#How to filter words that contain atleast 2 vowels from a series?"
      ],
      "metadata": {
        "id": "RI_E4QdtWp2m"
      },
      "execution_count": null,
      "outputs": []
    },
    {
      "cell_type": "code",
      "source": [
        "#How to filter valid emails from a series?"
      ],
      "metadata": {
        "id": "c9K2tcToWr36"
      },
      "execution_count": null,
      "outputs": []
    },
    {
      "cell_type": "code",
      "source": [
        "#How to get the mean of a series grouped by another series?"
      ],
      "metadata": {
        "id": "p4jna0zoWt_a"
      },
      "execution_count": null,
      "outputs": []
    },
    {
      "cell_type": "code",
      "source": [
        "#How to compute the euclidean distance between two series?"
      ],
      "metadata": {
        "id": "C7o7UBQQWv05"
      },
      "execution_count": null,
      "outputs": []
    },
    {
      "cell_type": "code",
      "source": [
        "#How to find all the local maxima (or peaks) in a numeric series?"
      ],
      "metadata": {
        "id": "t3QM_4V7XwYv"
      },
      "execution_count": null,
      "outputs": []
    },
    {
      "cell_type": "code",
      "source": [
        "#How to replace missing spaces in a string with the least frequent character?"
      ],
      "metadata": {
        "id": "jFHhlGwuXyu7"
      },
      "execution_count": null,
      "outputs": []
    },
    {
      "cell_type": "code",
      "source": [
        "#How to create a TimeSeries starting ‘2000-01-01’ and 10 weekends (saturdays) after that having random numbers as values?"
      ],
      "metadata": {
        "id": "nUlYD1z4X1Vm"
      },
      "execution_count": null,
      "outputs": []
    },
    {
      "cell_type": "code",
      "source": [
        "#How to fill an intermittent time series so all missing dates show up with values of previous non-missing date?"
      ],
      "metadata": {
        "id": "tAARKWI6X4Hu"
      },
      "execution_count": null,
      "outputs": []
    },
    {
      "cell_type": "code",
      "source": [
        "#How to compute the autocorrelations of a numeric series?"
      ],
      "metadata": {
        "id": "a0b6V13SX6QT"
      },
      "execution_count": null,
      "outputs": []
    },
    {
      "cell_type": "code",
      "source": [
        "#How to import only every nth row from a csv file to create a dataframe?"
      ],
      "metadata": {
        "id": "RpZFhJD-X9tD"
      },
      "execution_count": null,
      "outputs": []
    },
    {
      "cell_type": "code",
      "source": [
        "#How to change column values when importing csv to a dataframe?"
      ],
      "metadata": {
        "id": "NK9TR2rPYAxv"
      },
      "execution_count": null,
      "outputs": []
    },
    {
      "cell_type": "code",
      "source": [
        "#How to create a dataframe with rows as strides from a given series?"
      ],
      "metadata": {
        "id": "bQb24AqjYDT7"
      },
      "execution_count": null,
      "outputs": []
    },
    {
      "cell_type": "code",
      "source": [
        "#How to import only specified columns from a csv file?"
      ],
      "metadata": {
        "id": "BiC4pi49YFki"
      },
      "execution_count": null,
      "outputs": []
    },
    {
      "cell_type": "code",
      "source": [
        "#How to get the nrows, ncolumns, datatype, summary stats of each column of a dataframe? Also get the array and list equivalent."
      ],
      "metadata": {
        "id": "4W0XH1nHYHq3"
      },
      "execution_count": null,
      "outputs": []
    },
    {
      "cell_type": "code",
      "source": [
        "#How to extract the row and column number of a particular cell with given criterion?"
      ],
      "metadata": {
        "id": "dMAVVh3sYJq8"
      },
      "execution_count": null,
      "outputs": []
    },
    {
      "cell_type": "code",
      "source": [
        "#How to rename a specific columns in a dataframe?"
      ],
      "metadata": {
        "id": "raTVecVRYLv7"
      },
      "execution_count": null,
      "outputs": []
    },
    {
      "cell_type": "code",
      "source": [
        "#How to check if a dataframe has any missing values?"
      ],
      "metadata": {
        "id": "zlbYkamZYNpF"
      },
      "execution_count": null,
      "outputs": []
    },
    {
      "cell_type": "code",
      "source": [
        "#How to count the number of missing values in each column?"
      ],
      "metadata": {
        "id": "twbE27t5YPmm"
      },
      "execution_count": null,
      "outputs": []
    },
    {
      "cell_type": "code",
      "source": [
        "#How to replace missing values of multiple numeric columns with the mean?"
      ],
      "metadata": {
        "id": "0P_fKmD7YRcu"
      },
      "execution_count": null,
      "outputs": []
    },
    {
      "cell_type": "code",
      "source": [
        "#How to use apply function on existing columns with global variables as additional arguments?"
      ],
      "metadata": {
        "id": "olKVGDCvYTLI"
      },
      "execution_count": null,
      "outputs": []
    },
    {
      "cell_type": "code",
      "source": [
        "#How to select a specific column from a dataframe as a dataframe instead of a series?"
      ],
      "metadata": {
        "id": "Q-hw1z1SYVM6"
      },
      "execution_count": null,
      "outputs": []
    },
    {
      "cell_type": "code",
      "source": [
        "#How to change the order of columns of a dataframe?"
      ],
      "metadata": {
        "id": "zXUUr-pWYXDQ"
      },
      "execution_count": null,
      "outputs": []
    },
    {
      "cell_type": "code",
      "source": [
        "#How to set the number of rows and columns displayed in the output?"
      ],
      "metadata": {
        "id": "QBZH5YnzYZrG"
      },
      "execution_count": null,
      "outputs": []
    },
    {
      "cell_type": "code",
      "source": [
        "#How to format or suppress scientific notations in a pandas dataframe?"
      ],
      "metadata": {
        "id": "laYuQImVYeeO"
      },
      "execution_count": null,
      "outputs": []
    },
    {
      "cell_type": "code",
      "source": [
        "#How to format all the values in a dataframe as percentages?"
      ],
      "metadata": {
        "id": "eFxfbR8WYgj0"
      },
      "execution_count": null,
      "outputs": []
    },
    {
      "cell_type": "code",
      "source": [
        "# How to filter every nth row in a dataframe?"
      ],
      "metadata": {
        "id": "aFlwrAUkYinZ"
      },
      "execution_count": null,
      "outputs": []
    },
    {
      "cell_type": "code",
      "source": [
        "#How to create a primary key index by combining relevant columns?"
      ],
      "metadata": {
        "id": "zLo89s3qYkrU"
      },
      "execution_count": null,
      "outputs": []
    },
    {
      "cell_type": "code",
      "source": [
        "#How to get the row number of the nth largest value in a column?"
      ],
      "metadata": {
        "id": "ZRMP0zsdYmuC"
      },
      "execution_count": null,
      "outputs": []
    },
    {
      "cell_type": "code",
      "source": [
        "#How to find the position of the nth largest value greater than a given value?"
      ],
      "metadata": {
        "id": "5LDbwTU4Yo2N"
      },
      "execution_count": null,
      "outputs": []
    },
    {
      "cell_type": "code",
      "source": [
        "#How to get the last n rows of a dataframe with row sum > 100?"
      ],
      "metadata": {
        "id": "s3TPh1jPYrV-"
      },
      "execution_count": null,
      "outputs": []
    },
    {
      "cell_type": "code",
      "source": [
        "#How to find and cap outliers from a series or dataframe column?"
      ],
      "metadata": {
        "id": "l-T4riSIYtUd"
      },
      "execution_count": null,
      "outputs": []
    },
    {
      "cell_type": "code",
      "source": [
        "#How to reshape a dataframe to the largest possible square after removing the negative values?"
      ],
      "metadata": {
        "id": "Jq2ds3k3Yu-d"
      },
      "execution_count": null,
      "outputs": []
    },
    {
      "cell_type": "code",
      "source": [
        "#How to swap two rows of a dataframe?"
      ],
      "metadata": {
        "id": "pFPqTVmIYwqX"
      },
      "execution_count": null,
      "outputs": []
    },
    {
      "cell_type": "code",
      "source": [
        "#How to reverse the rows of a dataframe?"
      ],
      "metadata": {
        "id": "0sDzP8aTYyZo"
      },
      "execution_count": null,
      "outputs": []
    },
    {
      "cell_type": "code",
      "source": [
        "#How to create one-hot encodings of a categorical variable (dummy variables)?"
      ],
      "metadata": {
        "id": "Aa4r9DD8Yz-e"
      },
      "execution_count": null,
      "outputs": []
    },
    {
      "cell_type": "code",
      "source": [
        "#Which column contains the highest number of row-wise maximum values?"
      ],
      "metadata": {
        "id": "Up_-p4_GY1oX"
      },
      "execution_count": null,
      "outputs": []
    },
    {
      "cell_type": "code",
      "source": [
        "#How to create a new column that contains the row number of nearest column by euclidean distance?"
      ],
      "metadata": {
        "id": "l9fu-p8GY4SU"
      },
      "execution_count": null,
      "outputs": []
    },
    {
      "cell_type": "code",
      "source": [
        "#How to know the maximum possible correlation value of each column against other columns?"
      ],
      "metadata": {
        "id": "W2U_kpFCY6V1"
      },
      "execution_count": null,
      "outputs": []
    },
    {
      "cell_type": "code",
      "source": [
        "#How to create a column containing the minimum by maximum of each row?"
      ],
      "metadata": {
        "id": "h84lWabpY8Vu"
      },
      "execution_count": null,
      "outputs": []
    },
    {
      "cell_type": "code",
      "source": [
        "#How to create a column that contains the penultimate value in each row?"
      ],
      "metadata": {
        "id": "yjp5PP5eY-Bd"
      },
      "execution_count": null,
      "outputs": []
    },
    {
      "cell_type": "code",
      "source": [
        "#How to normalize all columns in a dataframe?"
      ],
      "metadata": {
        "id": "9RGGYtBxZDy3"
      },
      "execution_count": null,
      "outputs": []
    },
    {
      "cell_type": "code",
      "source": [
        "#How to compute the correlation of each row with the suceeding row?"
      ],
      "metadata": {
        "id": "mjV3-2SiZFyr"
      },
      "execution_count": null,
      "outputs": []
    },
    {
      "cell_type": "code",
      "source": [
        "#How to replace both the diagonals of dataframe with 0?"
      ],
      "metadata": {
        "id": "CXYaNddzZIvr"
      },
      "execution_count": null,
      "outputs": []
    },
    {
      "cell_type": "code",
      "source": [
        "#How to get the particular group of a groupby dataframe by key?"
      ],
      "metadata": {
        "id": "HZ11BLYRZKx9"
      },
      "execution_count": null,
      "outputs": []
    },
    {
      "cell_type": "code",
      "source": [
        "#How to get the n’th largest value of a column when grouped by another column?"
      ],
      "metadata": {
        "id": "j6s7GCVfZMn1"
      },
      "execution_count": null,
      "outputs": []
    },
    {
      "cell_type": "code",
      "source": [
        "#How to compute grouped mean on pandas dataframe and keep the grouped column as another column (not index)?"
      ],
      "metadata": {
        "id": "sr0G8o2JZOmp"
      },
      "execution_count": null,
      "outputs": []
    },
    {
      "cell_type": "code",
      "source": [
        "#How to join two dataframes by 2 columns so they have only the common rows?"
      ],
      "metadata": {
        "id": "qq9pfaBYZQ56"
      },
      "execution_count": null,
      "outputs": []
    },
    {
      "cell_type": "code",
      "source": [
        "#How to get the positions where values of two columns match?"
      ],
      "metadata": {
        "id": "esHG7Z7fZVCa"
      },
      "execution_count": null,
      "outputs": []
    },
    {
      "cell_type": "code",
      "source": [
        "#How to create lags and leads of a column in a dataframe?"
      ],
      "metadata": {
        "id": "Lho9aIKEZYC7"
      },
      "execution_count": null,
      "outputs": []
    },
    {
      "cell_type": "code",
      "source": [
        "#How to get the frequency of unique values in the entire dataframe?"
      ],
      "metadata": {
        "id": "gayoV473ZZ0w"
      },
      "execution_count": null,
      "outputs": []
    },
    {
      "cell_type": "code",
      "source": [
        "#How to split a text column into two separate columns?"
      ],
      "metadata": {
        "id": "Bzdv-kgJZb45"
      },
      "execution_count": null,
      "outputs": []
    },
    {
      "cell_type": "code",
      "source": [],
      "metadata": {
        "id": "ys-I4mX6Zdn3"
      },
      "execution_count": null,
      "outputs": []
    }
  ]
}