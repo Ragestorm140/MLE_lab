{
 "cells": [
  {
   "cell_type": "code",
   "execution_count": 1,
   "id": "5d682051-3cb9-4a4d-b5bf-386eec18c85d",
   "metadata": {},
   "outputs": [],
   "source": [
    "import numpy as np\n",
    "import pandas as pd"
   ]
  },
  {
   "cell_type": "code",
   "execution_count": 2,
   "id": "eeaaff81-d13e-4efa-bc56-b11c893383e9",
   "metadata": {},
   "outputs": [],
   "source": [
    "sdata = pd.read_csv(r\"C:\\Users\\Om\\OneDrive\\Documents\\Labs\\MLEL\\salaries_clean.csv\")"
   ]
  },
  {
   "cell_type": "code",
   "execution_count": null,
   "id": "05610a1f-397c-4e9b-90a4-3f1c5ea8163a",
   "metadata": {},
   "outputs": [],
   "source": []
  }
 ],
 "metadata": {
  "kernelspec": {
   "display_name": "Python 3 (ipykernel)",
   "language": "python",
   "name": "python3"
  },
  "language_info": {
   "codemirror_mode": {
    "name": "ipython",
    "version": 3
   },
   "file_extension": ".py",
   "mimetype": "text/x-python",
   "name": "python",
   "nbconvert_exporter": "python",
   "pygments_lexer": "ipython3",
   "version": "3.11.5"
  }
 },
 "nbformat": 4,
 "nbformat_minor": 5
}
