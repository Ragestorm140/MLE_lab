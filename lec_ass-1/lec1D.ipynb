{
 "cells": [
  {
   "cell_type": "code",
   "execution_count": 1,
   "id": "ac4ecbbf-18bc-4553-bb9f-a5355385b1a6",
   "metadata": {},
   "outputs": [],
   "source": [
    "import numpy as np\n",
    "import pandas as pd"
   ]
  },
  {
   "cell_type": "code",
   "execution_count": 2,
   "id": "0bd3c824-f160-43e5-817b-93562bfe7753",
   "metadata": {},
   "outputs": [],
   "source": [
    "ddata = pd.read_csv(r\"C:\\Users\\Om\\OneDrive\\Documents\\Labs\\MLEL\\divorce.csv\")"
   ]
  },
  {
   "cell_type": "code",
   "execution_count": null,
   "id": "10642e01-ae9c-4adb-929c-2616cc90c0ef",
   "metadata": {},
   "outputs": [],
   "source": []
  }
 ],
 "metadata": {
  "kernelspec": {
   "display_name": "Python 3 (ipykernel)",
   "language": "python",
   "name": "python3"
  },
  "language_info": {
   "codemirror_mode": {
    "name": "ipython",
    "version": 3
   },
   "file_extension": ".py",
   "mimetype": "text/x-python",
   "name": "python",
   "nbconvert_exporter": "python",
   "pygments_lexer": "ipython3",
   "version": "3.11.5"
  }
 },
 "nbformat": 4,
 "nbformat_minor": 5
}
