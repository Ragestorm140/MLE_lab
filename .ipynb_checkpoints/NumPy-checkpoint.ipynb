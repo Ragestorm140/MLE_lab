{
 "cells": [
  {
   "cell_type": "code",
   "execution_count": 2,
   "metadata": {
    "colab": {
     "base_uri": "https://localhost:8080/",
     "height": 36
    },
    "id": "pf8MfGJTxpN_",
    "outputId": "c5766563-e37c-4406-ff5a-5ff55a06dad8"
   },
   "outputs": [
    {
     "data": {
      "text/plain": [
       "'1.26.3'"
      ]
     },
     "execution_count": 2,
     "metadata": {},
     "output_type": "execute_result"
    }
   ],
   "source": [
    "#Import numpy as np and print the version number.\n",
    "import numpy as np\n",
    "np.version.version"
   ]
  },
  {
   "cell_type": "code",
   "execution_count": null,
   "metadata": {
    "colab": {
     "base_uri": "https://localhost:8080/"
    },
    "id": "ZhtNnhLAzF6k",
    "outputId": "a4355f03-7a93-4a76-f208-3cfa09667d5e"
   },
   "outputs": [
    {
     "data": {
      "text/plain": [
       "array([0, 1, 2, 3, 4, 5, 6, 7, 8])"
      ]
     },
     "execution_count": 2,
     "metadata": {},
     "output_type": "execute_result"
    }
   ],
   "source": [
    "#Create a 1D array of numbers from 0 to 9\n",
    "np.arange(0,9)\n",
    "#Desired output:\n",
    "#> array([0, 1, 2, 3, 4, 5, 6, 7, 8, 9])\n"
   ]
  },
  {
   "cell_type": "code",
   "execution_count": null,
   "metadata": {
    "colab": {
     "base_uri": "https://localhost:8080/"
    },
    "id": "01oeemN2zc_7",
    "outputId": "65a03999-b6de-4d3e-8da7-9ed0f6390473"
   },
   "outputs": [
    {
     "data": {
      "text/plain": [
       "array([[ True,  True,  True],\n",
       "       [ True,  True,  True],\n",
       "       [ True,  True,  True]])"
      ]
     },
     "execution_count": 3,
     "metadata": {},
     "output_type": "execute_result"
    }
   ],
   "source": [
    "#Create a 3×3 numpy array of all True’s\n",
    "np.full((3,3),True)"
   ]
  },
  {
   "cell_type": "code",
   "execution_count": null,
   "metadata": {
    "colab": {
     "base_uri": "https://localhost:8080/"
    },
    "id": "WB98uBorfiay",
    "outputId": "fc953f40-812f-4fc8-aa78-cdd281c46d8e"
   },
   "outputs": [
    {
     "data": {
      "text/plain": [
       "array([1, 3, 5, 7, 9])"
      ]
     },
     "execution_count": 9,
     "metadata": {},
     "output_type": "execute_result"
    }
   ],
   "source": [
    "#How to extract items that satisfy a given condition from 1D array?\n",
    "#Extract all odd numbers from arr\n",
    "#input arr = np.array([0, 1, 2, 3, 4, 5, 6, 7, 8, 9])\n",
    "#output array([1, 3, 5, 7, 9])\n",
    "# Input\n",
    "arr = np.array([0, 1, 2, 3, 4, 5, 6, 7, 8, 9])\n",
    "arr[1::2]"
   ]
  },
  {
   "cell_type": "code",
   "execution_count": null,
   "metadata": {
    "colab": {
     "base_uri": "https://localhost:8080/"
    },
    "id": "ilNSan1Of8Pf",
    "outputId": "880eb111-ccb8-4f4e-9769-3328e2cbff12"
   },
   "outputs": [
    {
     "data": {
      "text/plain": [
       "array([ 0, -1,  2, -1,  4, -1,  6, -1,  8, -1])"
      ]
     },
     "execution_count": 10,
     "metadata": {},
     "output_type": "execute_result"
    }
   ],
   "source": [
    "#How to replace items that satisfy a condition with another value in numpy array?\n",
    "#Replace all odd numbers in arr with -1\n",
    "\n",
    "# Input: arr = np.array([0, 1, 2, 3, 4, 5, 6, 7, 8, 9])\n",
    "#Desired Output: array([ 0, -1,  2, -1,  4, -1,  6, -1,  8, -1])\n",
    "arr = np.array([0, 1, 2, 3, 4, 5, 6, 7, 8, 9])\n",
    "arr[1::2]=-1\n",
    "arr"
   ]
  },
  {
   "cell_type": "code",
   "execution_count": null,
   "metadata": {
    "colab": {
     "base_uri": "https://localhost:8080/"
    },
    "id": "AJKwelN8h0SK",
    "outputId": "0d8c50f4-24d4-4b72-d7aa-a666297d9b4a"
   },
   "outputs": [
    {
     "data": {
      "text/plain": [
       "array([0, 1, 2, 3, 4, 5, 6, 7, 8, 9])"
      ]
     },
     "execution_count": 21,
     "metadata": {},
     "output_type": "execute_result"
    }
   ],
   "source": [
    "#How to replace items that satisfy a condition without affecting the original array?\n",
    "#Replace all odd numbers in arr with -1 without changing arr\n",
    "# Input: arr = np.array([0, 1, 2, 3, 4, 5, 6, 7, 8, 9])\n",
    "# Desired Output: out\n",
    "#>  array([ 0, -1,  2, -1,  4, -1,  6, -1,  8, -1])\n",
    "#arr\n",
    "arr = np.array([0, 1, 2, 3, 4, 5, 6, 7, 8, 9])\n",
    "arr1 = arr.copy()\n",
    "#>  array([0, 1, 2, 3, 4, 5, 6, 7, 8, 9])\n",
    "arr1[1::2]=-1\n",
    "arr"
   ]
  },
  {
   "cell_type": "code",
   "execution_count": null,
   "metadata": {
    "colab": {
     "base_uri": "https://localhost:8080/"
    },
    "id": "42ZMHLrBiKXw",
    "outputId": "f08b8d5f-20c2-48ca-9707-61efd48ab403"
   },
   "outputs": [
    {
     "data": {
      "text/plain": [
       "array([[0, 1, 2, 3, 4],\n",
       "       [5, 6, 7, 8, 9]])"
      ]
     },
     "execution_count": 23,
     "metadata": {},
     "output_type": "execute_result"
    }
   ],
   "source": [
    "#How to reshape an array?\n",
    "#Convert a 1D array to a 2D array with 2 rows\n",
    "#np.arange(10)\n",
    "#Desired Output:\n",
    "#> array([[0, 1, 2, 3, 4],\n",
    "#>        [5, 6, 7, 8, 9]])\n",
    "arr = np.arange(10)\n",
    "arr.reshape(2,5)"
   ]
  },
  {
   "cell_type": "code",
   "execution_count": null,
   "metadata": {
    "colab": {
     "base_uri": "https://localhost:8080/"
    },
    "id": "IiIXTrmGixJF",
    "outputId": "2c3ee6e2-8332-4884-8503-15444cebe71d"
   },
   "outputs": [
    {
     "data": {
      "text/plain": [
       "array([[0, 1, 2, 3, 4],\n",
       "       [5, 6, 7, 8, 9],\n",
       "       [1, 1, 1, 1, 1],\n",
       "       [1, 1, 1, 1, 1]])"
      ]
     },
     "execution_count": 5,
     "metadata": {},
     "output_type": "execute_result"
    }
   ],
   "source": [
    "#How to stack two arrays vertically?\n",
    "#Stack arrays a and b vertically\n",
    "#a = np.arange(10).reshape(2,-1)\n",
    "#b = np.repeat(1, 10).reshape(2,-1)\n",
    "#> array([[0, 1, 2, 3, 4],\n",
    "#>        [5, 6, 7, 8, 9],\n",
    "#>        [1, 1, 1, 1, 1],\n",
    "#>        [1, 1, 1, 1, 1]])\n",
    "a = np.arange(10).reshape(2,-1)\n",
    "b = np.repeat(1, 10).reshape(2,-1)\n",
    "c = np.vstack((a,b))\n",
    "c"
   ]
  },
  {
   "cell_type": "code",
   "execution_count": null,
   "metadata": {
    "colab": {
     "base_uri": "https://localhost:8080/"
    },
    "id": "RJKBVYGoRCQy",
    "outputId": "ea53ce0f-f85d-42bb-f325-336f33710835"
   },
   "outputs": [
    {
     "data": {
      "text/plain": [
       "array([[0, 1, 2, 3, 4, 1, 1, 1, 1, 1],\n",
       "       [5, 6, 7, 8, 9, 1, 1, 1, 1, 1]])"
      ]
     },
     "execution_count": 8,
     "metadata": {},
     "output_type": "execute_result"
    }
   ],
   "source": [
    "#How to stack two arrays horizontally?\n",
    "#Stack the arrays a and b horizontally.\n",
    "a = np.arange(10).reshape(2,-1)\n",
    "b = np.repeat(1, 10).reshape(2,-1)\n",
    "d = np.hstack((a,b))\n",
    "d"
   ]
  },
  {
   "cell_type": "code",
   "execution_count": 3,
   "metadata": {
    "id": "xCDTqzvVRVNG"
   },
   "outputs": [
    {
     "data": {
      "text/plain": [
       "array([1, 1, 1, 2, 2, 2, 3, 3, 3, 1, 2, 3, 1, 2, 3, 1, 2, 3])"
      ]
     },
     "execution_count": 3,
     "metadata": {},
     "output_type": "execute_result"
    }
   ],
   "source": [
    "#How to generate custom sequences in numpy without hardcoding?\n",
    "#desired output array([1, 1, 1, 2, 2, 2, 3, 3, 3, 1, 2, 3, 1, 2, 3, 1, 2, 3])\n",
    "a = np.array([1,2,3])\n",
    "np.r_[np.repeat(a,3), np.tile(a,3)]"
   ]
  },
  {
   "cell_type": "code",
   "execution_count": 4,
   "metadata": {
    "id": "HXQ6vCryRgbz"
   },
   "outputs": [
    {
     "data": {
      "text/plain": [
       "array([2, 4, 8, 9])"
      ]
     },
     "execution_count": 4,
     "metadata": {},
     "output_type": "execute_result"
    }
   ],
   "source": [
    "#How to get the common items between two python numpy arrays?\n",
    "a = np.array([1,2,3,8,3,9,3,4,5,6])\n",
    "b = np.array([7,2,10,2,7,4,9,4,9,8])\n",
    "np.intersect1d(a,b)\n",
    "#Get the common items between a and b"
   ]
  },
  {
   "cell_type": "code",
   "execution_count": 5,
   "metadata": {
    "id": "I12aDcrhRoUf"
   },
   "outputs": [
    {
     "data": {
      "text/plain": [
       "array([1, 3, 5, 6])"
      ]
     },
     "execution_count": 5,
     "metadata": {},
     "output_type": "execute_result"
    }
   ],
   "source": [
    "#How to remove from one array those items that exist in another?\n",
    "#From array a remove all items present in array b\n",
    "a = np.array([1,2,3,8,3,9,3,4,5,6])\n",
    "b = np.array([7,2,10,2,7,4,9,4,9,8])\n",
    "np.setdiff1d(a,b)"
   ]
  },
  {
   "cell_type": "code",
   "execution_count": 8,
   "metadata": {
    "id": "wPdQgLKURuPG"
   },
   "outputs": [
    {
     "data": {
      "text/plain": [
       "(array([1, 7], dtype=int64),)"
      ]
     },
     "execution_count": 8,
     "metadata": {},
     "output_type": "execute_result"
    }
   ],
   "source": [
    "#How to get the positions where elements of two arrays match?\n",
    "#Get the positions where elements of a and b match\n",
    "a = np.array([1,2,3,8,3,9,3,4,5,6])\n",
    "b = np.array([7,2,10,2,7,4,9,4,9,8])\n",
    "np.where(a == b)"
   ]
  },
  {
   "cell_type": "code",
   "execution_count": null,
   "metadata": {
    "id": "D9GxDKBXR8W2"
   },
   "outputs": [],
   "source": [
    "#How to extract all numbers between a given range from a numpy array?\n",
    "# Get all items between 5 and 10 from a."
   ]
  },
  {
   "cell_type": "code",
   "execution_count": null,
   "metadata": {
    "id": "SZmjFCYmSBwT"
   },
   "outputs": [],
   "source": [
    "#How to make a python function that handles scalars to work on numpy arrays?\n",
    "#Convert the function maxx that works on two scalars, to work on two arrays."
   ]
  },
  {
   "cell_type": "code",
   "execution_count": null,
   "metadata": {
    "id": "us6EVzcXSI64"
   },
   "outputs": [],
   "source": [
    "#How to swap two columns in a 2d numpy array?\n",
    "#Swap columns 1 and 2 in the array arr"
   ]
  },
  {
   "cell_type": "code",
   "execution_count": null,
   "metadata": {
    "id": "p3CjX5PUSR6j"
   },
   "outputs": [],
   "source": [
    "#How to swap two rows in a 2d numpy array?\n",
    "#Swap rows 1 and 2 in the array arr:"
   ]
  },
  {
   "cell_type": "code",
   "execution_count": null,
   "metadata": {
    "id": "u5Wi0Oz0SXsO"
   },
   "outputs": [],
   "source": [
    "#How to reverse the rows of a 2D array?\n",
    "#Reverse the rows of a 2D array arr."
   ]
  },
  {
   "cell_type": "code",
   "execution_count": null,
   "metadata": {
    "id": "cZkJrPE1SevV"
   },
   "outputs": [],
   "source": [
    "#How to reverse the columns of a 2D array?\n",
    "#Reverse the columns of a 2D array arr."
   ]
  },
  {
   "cell_type": "code",
   "execution_count": null,
   "metadata": {
    "id": "x-lpirGsSlEv"
   },
   "outputs": [],
   "source": [
    "#How to create a 2D array containing random floats between 5 and 10?"
   ]
  },
  {
   "cell_type": "code",
   "execution_count": null,
   "metadata": {
    "id": "iwDV8_1WSo_j"
   },
   "outputs": [],
   "source": [
    "#How to print only 3 decimal places in python numpy array?"
   ]
  },
  {
   "cell_type": "code",
   "execution_count": null,
   "metadata": {
    "id": "KilC21gjSsW8"
   },
   "outputs": [],
   "source": [
    "#How to pretty print a numpy array by suppressing the scientific notation (like 1e10)?"
   ]
  },
  {
   "cell_type": "code",
   "execution_count": null,
   "metadata": {
    "id": "Ui9XLZ4XSwhi"
   },
   "outputs": [],
   "source": [
    "#How to limit the number of items printed in output of numpy array?"
   ]
  },
  {
   "cell_type": "code",
   "execution_count": null,
   "metadata": {
    "id": "dc-8z9NFSzLE"
   },
   "outputs": [],
   "source": [
    "#How to print the full numpy array without truncating"
   ]
  },
  {
   "cell_type": "code",
   "execution_count": null,
   "metadata": {
    "id": "ggKE4K85S2Uy"
   },
   "outputs": [],
   "source": [
    "#How to import a dataset with numbers and texts keeping the text intact in python numpy?"
   ]
  },
  {
   "cell_type": "code",
   "execution_count": null,
   "metadata": {
    "id": "THOI-1WkS5fM"
   },
   "outputs": [],
   "source": [
    "#How to extract a particular column from 1D array of tuples?"
   ]
  },
  {
   "cell_type": "code",
   "execution_count": null,
   "metadata": {
    "id": "ZlAW0YZQS73U"
   },
   "outputs": [],
   "source": [
    "#How to convert a 1d array of tuples to a 2d numpy array?"
   ]
  },
  {
   "cell_type": "code",
   "execution_count": null,
   "metadata": {
    "id": "LD7nj_CgS-sy"
   },
   "outputs": [],
   "source": [
    "#How to compute the mean, median, standard deviation of a numpy array?"
   ]
  },
  {
   "cell_type": "code",
   "execution_count": null,
   "metadata": {
    "id": "GlNewfXGTCYK"
   },
   "outputs": [],
   "source": [
    "#How to normalize an array so the values range exactly between 0 and 1?"
   ]
  },
  {
   "cell_type": "code",
   "execution_count": null,
   "metadata": {
    "id": "Q2zgFU4pTE0-"
   },
   "outputs": [],
   "source": [
    "#How to compute the softmax score?"
   ]
  },
  {
   "cell_type": "code",
   "execution_count": null,
   "metadata": {
    "id": "7BOrC0ISTIev"
   },
   "outputs": [],
   "source": [
    "#How to find the percentile scores of a numpy array?"
   ]
  },
  {
   "cell_type": "code",
   "execution_count": null,
   "metadata": {
    "id": "ZHTEp6wSTLyZ"
   },
   "outputs": [],
   "source": [
    "#How to insert values at random positions in an array?"
   ]
  },
  {
   "cell_type": "code",
   "execution_count": null,
   "metadata": {
    "id": "O4aULzUFTPPB"
   },
   "outputs": [],
   "source": [
    "#How to find the position of missing values in numpy array?"
   ]
  },
  {
   "cell_type": "code",
   "execution_count": null,
   "metadata": {
    "id": "vKlqbhGTTRlO"
   },
   "outputs": [],
   "source": [
    "#How to filter a numpy array based on two or more conditions?"
   ]
  },
  {
   "cell_type": "code",
   "execution_count": null,
   "metadata": {
    "id": "Z8SWpd8RTT3S"
   },
   "outputs": [],
   "source": [
    "#How to drop rows that contain a missing value from a numpy array?"
   ]
  },
  {
   "cell_type": "code",
   "execution_count": null,
   "metadata": {
    "id": "e1gfQQzcTWPl"
   },
   "outputs": [],
   "source": [
    "#How to find the correlation between two columns of a numpy array?"
   ]
  },
  {
   "cell_type": "code",
   "execution_count": null,
   "metadata": {
    "id": "5xSwjd8MTaFQ"
   },
   "outputs": [],
   "source": [
    "#How to find if a given array has any null values?"
   ]
  },
  {
   "cell_type": "code",
   "execution_count": null,
   "metadata": {
    "id": "--lm1-U-Tcrm"
   },
   "outputs": [],
   "source": [
    "#How to replace all missing values with 0 in a numpy array?"
   ]
  },
  {
   "cell_type": "code",
   "execution_count": null,
   "metadata": {
    "id": "Rr9RQWktTflk"
   },
   "outputs": [],
   "source": [
    "#How to find the count of unique values in a numpy array?"
   ]
  },
  {
   "cell_type": "code",
   "execution_count": null,
   "metadata": {
    "id": "FeEnO75ETiJ2"
   },
   "outputs": [],
   "source": [
    "#How to convert a numeric to a categorical (text) array?"
   ]
  },
  {
   "cell_type": "code",
   "execution_count": null,
   "metadata": {
    "id": "e5Ije73NTmXF"
   },
   "outputs": [],
   "source": [
    "#How to create a new column from existing columns of a numpy array?"
   ]
  },
  {
   "cell_type": "code",
   "execution_count": null,
   "metadata": {
    "id": "YplnfkODTpI1"
   },
   "outputs": [],
   "source": [
    "#How to do probabilistic sampling in numpy?"
   ]
  },
  {
   "cell_type": "code",
   "execution_count": null,
   "metadata": {
    "id": "N76KTer6Tr-1"
   },
   "outputs": [],
   "source": [
    "#How to get the second largest value of an array when grouped by another array?"
   ]
  },
  {
   "cell_type": "code",
   "execution_count": null,
   "metadata": {
    "id": "qwUbUboaTwze"
   },
   "outputs": [],
   "source": [
    "#How to sort a 2D array by a column"
   ]
  },
  {
   "cell_type": "code",
   "execution_count": null,
   "metadata": {
    "id": "8W8WneOyTzfK"
   },
   "outputs": [],
   "source": [
    "#How to find the most frequent value in a numpy array?"
   ]
  },
  {
   "cell_type": "code",
   "execution_count": null,
   "metadata": {
    "id": "DwkjvgOCT1h8"
   },
   "outputs": [],
   "source": [
    "#How to find the position of the first occurrence of a value greater than a given value?"
   ]
  },
  {
   "cell_type": "code",
   "execution_count": null,
   "metadata": {
    "id": "5VrA-kJGT38Q"
   },
   "outputs": [],
   "source": [
    "#How to replace all values greater than a given value to a given cutoff?"
   ]
  },
  {
   "cell_type": "code",
   "execution_count": null,
   "metadata": {
    "id": "FVUSwJMET6Ge"
   },
   "outputs": [],
   "source": [
    "#How to get the positions of top n values from a numpy array?"
   ]
  },
  {
   "cell_type": "code",
   "execution_count": null,
   "metadata": {
    "id": "tiAaA8VkT8HZ"
   },
   "outputs": [],
   "source": [
    "#How to compute the row wise counts of all possible values in an array?"
   ]
  },
  {
   "cell_type": "code",
   "execution_count": null,
   "metadata": {
    "id": "yxKGFBOPT_cz"
   },
   "outputs": [],
   "source": [
    "#How to convert an array of arrays into a flat 1d array?"
   ]
  },
  {
   "cell_type": "code",
   "execution_count": null,
   "metadata": {
    "id": "PzaootBeUDM8"
   },
   "outputs": [],
   "source": [
    "#How to generate one-hot encodings for an array in numpy?"
   ]
  },
  {
   "cell_type": "code",
   "execution_count": null,
   "metadata": {
    "id": "e8oSAAQ0UIvL"
   },
   "outputs": [],
   "source": [
    "#How to create row numbers grouped by a categorical variable?"
   ]
  },
  {
   "cell_type": "code",
   "execution_count": null,
   "metadata": {
    "id": "nZ7MjEe2URHX"
   },
   "outputs": [],
   "source": [
    "#How to create groud ids based on a given categorical variable?"
   ]
  },
  {
   "cell_type": "code",
   "execution_count": null,
   "metadata": {
    "id": "p70w9cCZUT1X"
   },
   "outputs": [],
   "source": [
    "#How to rank items in an array using numpy?"
   ]
  },
  {
   "cell_type": "code",
   "execution_count": null,
   "metadata": {
    "id": "I74M8pkfUWE3"
   },
   "outputs": [],
   "source": [
    "#How to rank items in a multidimensional array using numpy?"
   ]
  },
  {
   "cell_type": "code",
   "execution_count": null,
   "metadata": {
    "id": "DxtGQQMVUYaW"
   },
   "outputs": [],
   "source": [
    "#How to find the maximum value in each row of a numpy array 2d?"
   ]
  },
  {
   "cell_type": "code",
   "execution_count": null,
   "metadata": {
    "id": "2A0NmCZIUba4"
   },
   "outputs": [],
   "source": [
    "#How to compute the min-by-max for each row for a numpy array 2d?"
   ]
  },
  {
   "cell_type": "code",
   "execution_count": null,
   "metadata": {
    "id": "_q-ZQBurUdjO"
   },
   "outputs": [],
   "source": [
    "#How to find the duplicate records in a numpy array?"
   ]
  },
  {
   "cell_type": "code",
   "execution_count": null,
   "metadata": {
    "id": "aF6SQa6tUgGe"
   },
   "outputs": [],
   "source": [
    "#How to find the grouped mean in numpy?"
   ]
  },
  {
   "cell_type": "code",
   "execution_count": null,
   "metadata": {
    "id": "GC8gAolOUigt"
   },
   "outputs": [],
   "source": [
    "#How to convert a PIL image to numpy array?"
   ]
  },
  {
   "cell_type": "code",
   "execution_count": null,
   "metadata": {
    "id": "BNh9lHynUnca"
   },
   "outputs": [],
   "source": [
    "#How to drop all missing values from a numpy array?"
   ]
  },
  {
   "cell_type": "code",
   "execution_count": null,
   "metadata": {
    "id": "-PkcQOxWUqeb"
   },
   "outputs": [],
   "source": [
    "#How to compute the euclidean distance between two arrays?"
   ]
  },
  {
   "cell_type": "code",
   "execution_count": null,
   "metadata": {
    "id": "m14r0vERUsgP"
   },
   "outputs": [],
   "source": [
    "#How to find all the local maxima (or peaks) in a 1d array?"
   ]
  },
  {
   "cell_type": "code",
   "execution_count": null,
   "metadata": {
    "id": "KvgehhLmUueA"
   },
   "outputs": [],
   "source": [
    "#How to subtract a 1d array from a 2d array, where each item of 1d array subtracts from respective row?"
   ]
  },
  {
   "cell_type": "code",
   "execution_count": null,
   "metadata": {
    "id": "TTaGs7WbUxA6"
   },
   "outputs": [],
   "source": [
    "#How to find the index of n'th repetition of an item in an array"
   ]
  },
  {
   "cell_type": "code",
   "execution_count": null,
   "metadata": {
    "id": "_0sCUZYRUzaF"
   },
   "outputs": [],
   "source": [
    "#How to convert numpy's datetime64 object to datetime's datetime object?"
   ]
  },
  {
   "cell_type": "code",
   "execution_count": null,
   "metadata": {
    "id": "jhTvTcfIU1xd"
   },
   "outputs": [],
   "source": [
    "#How to compute the moving average of a numpy array?"
   ]
  },
  {
   "cell_type": "code",
   "execution_count": null,
   "metadata": {
    "id": "s7LtuqDuU3xp"
   },
   "outputs": [],
   "source": [
    "#How to create a numpy array sequence given only the starting point, length and the step?"
   ]
  },
  {
   "cell_type": "code",
   "execution_count": null,
   "metadata": {
    "id": "-sv1HlBVU6Gf"
   },
   "outputs": [],
   "source": [
    "#How to fill in missing dates in an irregular series of numpy dates?"
   ]
  },
  {
   "cell_type": "code",
   "execution_count": null,
   "metadata": {
    "id": "T9gxEF6tU8E4"
   },
   "outputs": [],
   "source": [
    "#How to create strides from a given 1D array?"
   ]
  },
  {
   "cell_type": "code",
   "execution_count": null,
   "metadata": {
    "id": "iBqBfKMSU-6D"
   },
   "outputs": [],
   "source": []
  }
 ],
 "metadata": {
  "colab": {
   "provenance": []
  },
  "kernelspec": {
   "display_name": "Python 3 (ipykernel)",
   "language": "python",
   "name": "python3"
  },
  "language_info": {
   "codemirror_mode": {
    "name": "ipython",
    "version": 3
   },
   "file_extension": ".py",
   "mimetype": "text/x-python",
   "name": "python",
   "nbconvert_exporter": "python",
   "pygments_lexer": "ipython3",
   "version": "3.11.5"
  }
 },
 "nbformat": 4,
 "nbformat_minor": 4
}
